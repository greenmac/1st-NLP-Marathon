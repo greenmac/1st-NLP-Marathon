{
 "cells": [
  {
   "cell_type": "markdown",
   "source": [
    "# 自製智能中文選字系統  (2)"
   ],
   "metadata": {}
  },
  {
   "cell_type": "code",
   "execution_count": 1,
   "source": [
    "import sys\n",
    "sys.version"
   ],
   "outputs": [
    {
     "output_type": "execute_result",
     "data": {
      "text/plain": [
       "'3.8.2 (default, Jun  8 2021, 11:59:35) \\n[Clang 12.0.5 (clang-1205.0.22.11)]'"
      ]
     },
     "metadata": {},
     "execution_count": 1
    }
   ],
   "metadata": {}
  },
  {
   "cell_type": "markdown",
   "source": [
    "確認版本為 python3"
   ],
   "metadata": {}
  },
  {
   "cell_type": "markdown",
   "source": [
    "## 資料前處理"
   ],
   "metadata": {}
  },
  {
   "cell_type": "code",
   "execution_count": 2,
   "source": [
    "import re"
   ],
   "outputs": [],
   "metadata": {}
  },
  {
   "cell_type": "code",
   "execution_count": 3,
   "source": [
    "def prepocess_line(line):\n",
    "    chinese_pattern = r'[\\u4E00-\\u9FFF]+'\n",
    "    segments = re.findall(chinese_pattern, line, flags=re.UNICODE)\n",
    "    return segments"
   ],
   "outputs": [],
   "metadata": {}
  },
  {
   "cell_type": "code",
   "execution_count": 4,
   "source": [
    "segments = []\n",
    "with open('../data/wiki_zh_small.txt') as fr:\n",
    "    for line in fr.readlines():\n",
    "        segments += prepocess_line(line)"
   ],
   "outputs": [],
   "metadata": {
    "tags": []
   }
  },
  {
   "cell_type": "markdown",
   "source": [
    "## 斷詞"
   ],
   "metadata": {}
  },
  {
   "cell_type": "code",
   "execution_count": 5,
   "source": [
    "# !pip install jieba"
   ],
   "outputs": [],
   "metadata": {
    "tags": []
   }
  },
  {
   "cell_type": "code",
   "execution_count": 6,
   "source": [
    "import jieba"
   ],
   "outputs": [],
   "metadata": {}
  },
  {
   "cell_type": "code",
   "execution_count": 7,
   "source": [
    "list(jieba.cut_for_search(segments[6001]))"
   ],
   "outputs": [
    {
     "output_type": "stream",
     "name": "stderr",
     "text": [
      "Building prefix dict from the default dictionary ...\n",
      "Loading model from cache /var/folders/ch/8lfclbhs4bj58zsxyz2zmb140000gn/T/jieba.cache\n",
      "Loading model cost 0.361 seconds.\n",
      "Prefix dict has been built successfully.\n"
     ]
    },
    {
     "output_type": "execute_result",
     "data": {
      "text/plain": [
       "['所以', '僅用', '於', '還原', '一些', '貴重', '的', '化合', '化合物']"
      ]
     },
     "metadata": {},
     "execution_count": 7
    }
   ],
   "metadata": {
    "tags": []
   }
  },
  {
   "cell_type": "code",
   "execution_count": 8,
   "source": [
    "cut_segments = []\n",
    "for seg in segments:\n",
    "    # 使用結巴斷詞的 cut_for_search\n",
    "    # YOUR CODE HERE\n",
    "    cut_segments += jieba.cut_for_search(seg)\n",
    "    # END YOUR CODE"
   ],
   "outputs": [],
   "metadata": {
    "tags": []
   }
  },
  {
   "cell_type": "markdown",
   "source": [
    "## 使用斷詞的結果來作Ngram"
   ],
   "metadata": {}
  },
  {
   "cell_type": "code",
   "execution_count": 9,
   "source": [
    "from collections import Counter\n",
    "\n",
    "class Counters:\n",
    "    def __init__(self, n):\n",
    "        self.n = n\n",
    "        self.counters = [Counter() for _ in range(n + 1)]\n",
    "\n",
    "    def fit(self, segments):\n",
    "        for i in range(1, 1 + self.n):\n",
    "            for segment in segments:\n",
    "                self.counters[i] += Counter(self._skip(segment, i))\n",
    "\n",
    "        base_count = sum(dict(self.counters[1]).values())\n",
    "        self.counters[0] = Counter({'': base_count})\n",
    "\n",
    "    def __getitem__(self, k):\n",
    "        return self.counters[k]\n",
    "\n",
    "    def _skip(self, segment, n):\n",
    "        assert n > 0\n",
    "        if len(segment) < n:\n",
    "            return []\n",
    "        shift = n - 1\n",
    "        for i in range(len(segment) - shift):\n",
    "            yield segment[i:i+shift+1]"
   ],
   "outputs": [],
   "metadata": {}
  },
  {
   "cell_type": "code",
   "execution_count": 10,
   "source": [
    "counters = Counters(n=5)\n",
    "counters.fit(cut_segments)"
   ],
   "outputs": [],
   "metadata": {}
  },
  {
   "cell_type": "code",
   "execution_count": 11,
   "source": [
    "class Ngram:\n",
    "    def __init__(self, n, counters):\n",
    "        assert n <= counters.n\n",
    "        self.n = n\n",
    "        self.major_counter = counters[n]\n",
    "        self.minor_counter = counters[n-1]\n",
    "\n",
    "    def predict_proba(self, prefix='', top_k=5):\n",
    "        assert len(prefix) >= self.n - 1\n",
    "\n",
    "        reference = prefix[-(self.n - 1):] if self.n > 1 else ''\n",
    "        count_referecne = self.minor_counter[reference]\n",
    "        probs = []\n",
    "        for key, count in dict(self.major_counter).items():\n",
    "            if key.startswith(reference):\n",
    "                prob = count / count_referecne\n",
    "                probs.append((prob, key[-1]))\n",
    "        sorted_probs = sorted(probs, reverse=True)\n",
    "        return sorted_probs[:top_k] if top_k > 0 else sorted_probs\n",
    "\n",
    "    def get_proba_dict(self, prefix=''):\n",
    "        return {word: prob for prob, word in self.predict_proba(prefix, top_k=-1)}"
   ],
   "outputs": [],
   "metadata": {}
  },
  {
   "cell_type": "code",
   "execution_count": 12,
   "source": [
    "ngrams = [Ngram(i, counters) for i in range(1, 6)]"
   ],
   "outputs": [],
   "metadata": {}
  },
  {
   "cell_type": "markdown",
   "source": [
    "## 使用Smoothing of Language Models來建立第二版選字系統"
   ],
   "metadata": {}
  },
  {
   "cell_type": "code",
   "execution_count": 13,
   "source": [
    "class ChineseWordRecommenderV2:\n",
    "    def __init__(self, ngrams):\n",
    "        self.ngrams = ngrams\n",
    "    \n",
    "    def predict_proba(self, prefix='', top_k=5):\n",
    "        interpolation_lambda = 0.99\n",
    "        proba_dicts = [ngram.get_proba_dict(prefix) for ngram in ngrams[:len(prefix)+1]]\n",
    "\n",
    "        probas = []\n",
    "        # 在此你可以選擇兩種 Smoothing of Language Models 的方法：\n",
    "        # Back-off Smoothing 或 Interpolation Smoothing\n",
    "        # 如果你選擇 Interpolation Smoothing，你可以運用已經準備好的輔助函式\n",
    "        # _get_interpolation_proba 來達到此目的\n",
    "        # YOUR CODE HERE\n",
    "        words = proba_dicts[0].keys()\n",
    "        for word in words:\n",
    "            proba = self._get_interpolation_proba(word, proba_dicts, interpolation_lambda)\n",
    "            probas.append((proba, word))\n",
    "\n",
    "        sorted_probas = sorted(probas, reverse=True)\n",
    "        # END YOUR CODE\n",
    "        return sorted_probas[:top_k] if top_k > 0 else sorted_probas\n",
    "    \n",
    "    def _get_interpolation_proba(self, word, proba_dicts, interp_lambda, idx=None):\n",
    "        if idx is None:\n",
    "            idx = len(proba_dicts) - 1\n",
    "        if idx == 0:\n",
    "            return proba_dicts[idx].get(word, 0.)\n",
    "        return interp_lambda * proba_dicts[idx].get(word, 0.) + \\\n",
    "               (1 - interp_lambda) * self._get_interpolation_proba(word, proba_dicts, interp_lambda, idx=idx-1)"
   ],
   "outputs": [],
   "metadata": {}
  },
  {
   "cell_type": "code",
   "execution_count": 14,
   "source": [
    "model = ChineseWordRecommenderV2(ngrams)"
   ],
   "outputs": [],
   "metadata": {}
  },
  {
   "cell_type": "code",
   "execution_count": 15,
   "source": [
    "probs = model.predict_proba('法', top_k=10)\n",
    "probs"
   ],
   "outputs": [
    {
     "output_type": "execute_result",
     "data": {
      "text/plain": [
       "[(0.051904146168121834, '國'),\n",
       " (0.04388616116650217, '律'),\n",
       " (0.029848241612163377, '院'),\n",
       " (0.020222220928179165, '語'),\n",
       " (0.011414997351123958, '蘭'),\n",
       " (0.010549762034510142, '系'),\n",
       " (0.00792383560501087, '定'),\n",
       " (0.007908712635409567, '制'),\n",
       " (0.007072068387587443, '學'),\n",
       " (0.007060356996987107, '西')]"
      ]
     },
     "metadata": {},
     "execution_count": 15
    }
   ],
   "metadata": {
    "tags": []
   }
  },
  {
   "cell_type": "markdown",
   "source": [
    "## Demo"
   ],
   "metadata": {}
  },
  {
   "cell_type": "code",
   "execution_count": 16,
   "source": [
    "# !pip install -U pip\n",
    "# !pip install -q ipywidgets"
   ],
   "outputs": [],
   "metadata": {
    "tags": []
   }
  },
  {
   "cell_type": "code",
   "execution_count": 17,
   "source": [
    "import ipywidgets as widgets\n",
    "\n",
    "text = widgets.Textarea()\n",
    "label = widgets.Label()\n",
    "display(label, text)\n",
    "\n",
    "def func(change):\n",
    "    probs = model.predict_proba(change.new, top_k=10)\n",
    "    label.value = ' ' + '\\t'.join([word for prob, word in probs])\n",
    "\n",
    "text.observe(func, names='value')"
   ],
   "outputs": [
    {
     "output_type": "display_data",
     "data": {
      "text/plain": [
       "Label(value='')"
      ],
      "application/vnd.jupyter.widget-view+json": {
       "version_major": 2,
       "version_minor": 0,
       "model_id": "8754f1a4c7dc4db4bc64a13fd3c10baf"
      }
     },
     "metadata": {}
    },
    {
     "output_type": "display_data",
     "data": {
      "text/plain": [
       "Textarea(value='')"
      ],
      "application/vnd.jupyter.widget-view+json": {
       "version_major": 2,
       "version_minor": 0,
       "model_id": "3d90dfb271fd450a8c8e3bfa75db661c"
      }
     },
     "metadata": {}
    }
   ],
   "metadata": {}
  },
  {
   "cell_type": "code",
   "execution_count": null,
   "source": [],
   "outputs": [],
   "metadata": {}
  }
 ],
 "metadata": {
  "language_info": {
   "codemirror_mode": {
    "name": "ipython",
    "version": 3
   },
   "file_extension": ".py",
   "mimetype": "text/x-python",
   "name": "python",
   "nbconvert_exporter": "python",
   "pygments_lexer": "ipython3",
   "version": "3.8.2"
  },
  "orig_nbformat": 2,
  "kernelspec": {
   "name": "python3",
   "display_name": "Python 3.8.2 64-bit"
  },
  "interpreter": {
   "hash": "31f2aee4e71d21fbe5cf8b01ff0e069b9275f58929596ceb00d14d90e3e16cd6"
  }
 },
 "nbformat": 4,
 "nbformat_minor": 2
}